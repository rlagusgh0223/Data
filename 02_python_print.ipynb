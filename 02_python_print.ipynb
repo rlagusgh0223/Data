{
 "cells": [
  {
   "cell_type": "markdown",
   "metadata": {},
   "source": [
    "# 큰 제목1\n",
    "## 큰 제목2\n",
    "### 큰 제목3\n",
    "- 글자를 입력\n",
    "1. 첫 번째\n",
    "2. 두 번째  \n",
    "문서를 설명하는 텍스트. 문서작성에 편하다."
   ]
  },
  {
   "cell_type": "code",
   "execution_count": 1,
   "metadata": {},
   "outputs": [
    {
     "name": "stdout",
     "output_type": "stream",
     "text": [
      "Hello World!\n"
     ]
    }
   ],
   "source": [
    "# 실제로 코드를 실행하고 결과를 확인하는 셀\n",
    "print(\"Hello World!\")"
   ]
  },
  {
   "cell_type": "markdown",
   "metadata": {},
   "source": [
    "print(\"Hello World!\")"
   ]
  },
  {
   "cell_type": "code",
   "execution_count": 4,
   "metadata": {},
   "outputs": [
    {
     "name": "stdout",
     "output_type": "stream",
     "text": [
      "Hello, world! how\n"
     ]
    }
   ],
   "source": [
    "# capitalized\n",
    "# 문자열의 첫 글자만 대문자로 바꾸기\n",
    "word = \"hello, world! how\"\n",
    "print(word.capitalize())"
   ]
  },
  {
   "cell_type": "code",
   "execution_count": 5,
   "metadata": {},
   "outputs": [
    {
     "name": "stdout",
     "output_type": "stream",
     "text": [
      "Hello, World! How\n"
     ]
    }
   ],
   "source": [
    "# title\n",
    "# 각 단어의 첫 글자를 대문자로 바꾸기\n",
    "print(word.title())"
   ]
  },
  {
   "cell_type": "code",
   "execution_count": 9,
   "metadata": {},
   "outputs": [
    {
     "name": "stdout",
     "output_type": "stream",
     "text": [
      "[(0, 'apple'), (1, 'banana'), (2, ' kiwi')]\n",
      "0 apple\n",
      "1 banana\n",
      "2 kiwi\n"
     ]
    }
   ],
   "source": [
    "# enumerate\n",
    "# 인덱스의 번호도 씌운다\n",
    "elist = ['apple', 'banana', ' kiwi']\n",
    "print(list(enumerate(elist)))\n",
    "for index, value in enumerate(elist):\n",
    "    print(index, value.strip())"
   ]
  },
  {
   "cell_type": "code",
   "execution_count": 11,
   "metadata": {},
   "outputs": [
    {
     "name": "stdout",
     "output_type": "stream",
     "text": [
      "['apple', 'banana', 'kiwi']\n"
     ]
    }
   ],
   "source": [
    "# list comprehension\n",
    "# 리스트에 바로 내용을 담는다\n",
    "new_list = [e.strip() for e in elist]\n",
    "print(new_list)"
   ]
  },
  {
   "cell_type": "code",
   "execution_count": null,
   "metadata": {},
   "outputs": [],
   "source": []
  }
 ],
 "metadata": {
  "kernelspec": {
   "display_name": "Python 3",
   "language": "python",
   "name": "python3"
  },
  "language_info": {
   "codemirror_mode": {
    "name": "ipython",
    "version": 3
   },
   "file_extension": ".py",
   "mimetype": "text/x-python",
   "name": "python",
   "nbconvert_exporter": "python",
   "pygments_lexer": "ipython3",
   "version": "3.8.2"
  }
 },
 "nbformat": 4,
 "nbformat_minor": 2
}
